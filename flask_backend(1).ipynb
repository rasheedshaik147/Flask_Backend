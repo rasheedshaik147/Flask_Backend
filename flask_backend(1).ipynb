{
 "cells": [
  {
   "cell_type": "code",
   "execution_count": null,
   "metadata": {},
   "outputs": [
    {
     "name": "stdout",
     "output_type": "stream",
     "text": [
      " * Serving Flask app '__main__'\n",
      " * Debug mode: off\n"
     ]
    },
    {
     "name": "stderr",
     "output_type": "stream",
     "text": [
      "WARNING: This is a development server. Do not use it in a production deployment. Use a production WSGI server instead.\n",
      " * Running on http://127.0.0.1:5000\n",
      "Press CTRL+C to quit\n",
      "127.0.0.1 - - [14/Feb/2025 11:45:52] \"POST /validate_code/ HTTP/1.1\" 200 -\n"
     ]
    }
   ],
   "source": [
    "from flask import Flask, request, jsonify\n",
    "import openai\n",
    "import os\n",
    "\n",
    "# Initialize Flask app\n",
    "app = Flask(__name__)\n",
    "\n",
    "# Set OpenAI API key\n",
    "OPENAI_API_KEY = \"\"  # Replace with your actual API key\n",
    "openai.api_key = OPENAI_API_KEY\n",
    "\n",
    "# Function to validate Python code against a given description\n",
    "def validate_function_code(code, description):\n",
    "    prompt = f\"\"\"\n",
    "    You are an AI code auditor. Verify if the given Python function matches its description.\n",
    "\n",
    "    Function:\n",
    "    {code}\n",
    "\n",
    "    Description:\n",
    "    {description}\n",
    "\n",
    "    Expected Behavior:\n",
    "    1. Does the function implement the described behavior correctly?\n",
    "    2. Are there any logical or syntax errors?\n",
    "    3. Suggestions for improvement.\n",
    "\n",
    "    Provide an analysis with a verdict (Correct/Incorrect) and suggested fixes if needed.\n",
    "    \"\"\"\n",
    "\n",
    "    try:\n",
    "        response = openai.ChatCompletion.create(\n",
    "            model=\"gpt-3.5-turbo\",\n",
    "            messages=[{\"role\": \"user\", \"content\": prompt}]\n",
    "        )\n",
    "        return response[\"choices\"][0][\"message\"][\"content\"]\n",
    "    except Exception as e:\n",
    "        return f\"Error in validation: {str(e)}\"\n",
    "\n",
    "# Home Route\n",
    "@app.route('/')\n",
    "def home():\n",
    "    return jsonify({\"message\": \"Welcome to Flask Code Validator API\"})\n",
    "\n",
    "# Search Route (GET)\n",
    "@app.route('/search/', methods=['GET'])\n",
    "def search():\n",
    "    name = request.args.get('q')\n",
    "    if not name:\n",
    "        return jsonify({\"code\": 1, \"message\": \"Missing query parameter\"}), 400\n",
    "    return jsonify({\"code\": 0, \"message\": f\"Good morning {name}\"})\n",
    "\n",
    "# Document Search Route (GET)\n",
    "@app.route('/ask_documents/', methods=['GET'])\n",
    "def ask_documents():\n",
    "    q_name = request.args.get('q')\n",
    "    if not q_name:\n",
    "        return jsonify({\"code\": 1, \"message\": \"Missing query parameter\"}), 400\n",
    "    return jsonify({\"code\": 0, \"message\": f\"Document results for {q_name}\"})\n",
    "\n",
    "# POST Search Route\n",
    "@app.route('/p_search/', methods=['POST'])\n",
    "def post_search():\n",
    "    name = request.form.get('q')\n",
    "    if not name:\n",
    "        return jsonify({\"code\": 1, \"message\": \"Missing form data\"}), 400\n",
    "    return jsonify({\"code\": 0, \"message\": f\"Good morning {name}\"})\n",
    "\n",
    "# Code Validation Route (POST)\n",
    "@app.route('/validate_code/', methods=['POST'])\n",
    "def validate_code():\n",
    "    data = request.json\n",
    "    if not data or 'code' not in data or 'description' not in data:\n",
    "        return jsonify({\"error\": \"Both 'code' and 'description' are required\"}), 400\n",
    "\n",
    "    code = data['code']\n",
    "    description = data['description']\n",
    "    analysis = validate_function_code(code, description)\n",
    "\n",
    "    return jsonify({\"analysis\": analysis})\n",
    "\n",
    "# Run Flask App\n",
    "if __name__ == \"__main__\":\n",
    "    app.run(host=\"127.0.0.1\", port=5000, debug=False)\n"
   ]
  },
  {
   "cell_type": "code",
   "execution_count": null,
   "metadata": {},
   "outputs": [],
   "source": []
  }
 ],
 "metadata": {
  "kernelspec": {
   "display_name": "Python 3",
   "language": "python",
   "name": "python3"
  },
  "language_info": {
   "codemirror_mode": {
    "name": "ipython",
    "version": 3
   },
   "file_extension": ".py",
   "mimetype": "text/x-python",
   "name": "python",
   "nbconvert_exporter": "python",
   "pygments_lexer": "ipython3",
   "version": "3.11.5"
  }
 },
 "nbformat": 4,
 "nbformat_minor": 2
}
